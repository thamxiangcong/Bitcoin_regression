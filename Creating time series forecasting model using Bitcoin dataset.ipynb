{
 "cells": [
  {
   "cell_type": "markdown",
   "id": "3e909a3d",
   "metadata": {},
   "source": [
    "# Creating time series forecasting model using Bitcoin dataset"
   ]
  },
  {
   "cell_type": "markdown",
   "id": "bb530ffe",
   "metadata": {},
   "source": [
    "Data is downloaded from https://www.kaggle.com/datasets/hansangho/bitcoindata"
   ]
  },
  {
   "cell_type": "code",
   "execution_count": 1,
   "id": "d37c3d2c",
   "metadata": {},
   "outputs": [],
   "source": [
    "import numpy as np\n",
    "import pandas as pd\n",
    "import matplotlib.pyplot as plt\n",
    "from sklearn.preprocessing import MinMaxScaler\n",
    "from sklearn.linear_model import LinearRegression\n",
    "from sklearn.metrics import mean_squared_error\n",
    "from sklearn.metrics import r2_score"
   ]
  },
  {
   "cell_type": "code",
   "execution_count": 2,
   "id": "b2e562bf",
   "metadata": {},
   "outputs": [],
   "source": [
    "prices = pd.read_csv('/Users/thamxiangcong/Downloads/Bitcoin_historical_data.csv')"
   ]
  },
  {
   "cell_type": "code",
   "execution_count": 3,
   "id": "ce0281b9",
   "metadata": {},
   "outputs": [
    {
     "data": {
      "text/html": [
       "<div>\n",
       "<style scoped>\n",
       "    .dataframe tbody tr th:only-of-type {\n",
       "        vertical-align: middle;\n",
       "    }\n",
       "\n",
       "    .dataframe tbody tr th {\n",
       "        vertical-align: top;\n",
       "    }\n",
       "\n",
       "    .dataframe thead th {\n",
       "        text-align: right;\n",
       "    }\n",
       "</style>\n",
       "<table border=\"1\" class=\"dataframe\">\n",
       "  <thead>\n",
       "    <tr style=\"text-align: right;\">\n",
       "      <th></th>\n",
       "      <th>Day</th>\n",
       "      <th>Close</th>\n",
       "      <th>Open</th>\n",
       "      <th>Average</th>\n",
       "      <th>HighValue</th>\n",
       "      <th>LowValue</th>\n",
       "      <th>Unnamed: 6</th>\n",
       "      <th>Unnamed: 7</th>\n",
       "      <th>Unnamed: 8</th>\n",
       "      <th>Change%</th>\n",
       "      <th>Volume</th>\n",
       "    </tr>\n",
       "  </thead>\n",
       "  <tbody>\n",
       "    <tr>\n",
       "      <th>0</th>\n",
       "      <td>2022-10-08</td>\n",
       "      <td>19,522.60</td>\n",
       "      <td>19,530.20</td>\n",
       "      <td>19,526.40</td>\n",
       "      <td>19,612.20</td>\n",
       "      <td>19,432.60</td>\n",
       "      <td>230.15</td>\n",
       "      <td>230150</td>\n",
       "      <td>NaN</td>\n",
       "      <td>-0.04%</td>\n",
       "      <td>NaN</td>\n",
       "    </tr>\n",
       "    <tr>\n",
       "      <th>1</th>\n",
       "      <td>2022-10-07</td>\n",
       "      <td>19,531.30</td>\n",
       "      <td>19,962.40</td>\n",
       "      <td>19,746.85</td>\n",
       "      <td>20,051.40</td>\n",
       "      <td>19,352.10</td>\n",
       "      <td>263.5</td>\n",
       "      <td>263500</td>\n",
       "      <td>NaN</td>\n",
       "      <td>-2.13%</td>\n",
       "      <td>NaN</td>\n",
       "    </tr>\n",
       "    <tr>\n",
       "      <th>2</th>\n",
       "      <td>2022-10-06</td>\n",
       "      <td>19,956.70</td>\n",
       "      <td>20,157.50</td>\n",
       "      <td>20,057.10</td>\n",
       "      <td>20,436.70</td>\n",
       "      <td>19,873.70</td>\n",
       "      <td>370.6</td>\n",
       "      <td>370600</td>\n",
       "      <td>NaN</td>\n",
       "      <td>-1.00%</td>\n",
       "      <td>NaN</td>\n",
       "    </tr>\n",
       "    <tr>\n",
       "      <th>3</th>\n",
       "      <td>2022-10-05</td>\n",
       "      <td>20,157.50</td>\n",
       "      <td>20,340.50</td>\n",
       "      <td>20,249.00</td>\n",
       "      <td>20,353.80</td>\n",
       "      <td>19,761.70</td>\n",
       "      <td>352.76</td>\n",
       "      <td>352760</td>\n",
       "      <td>NaN</td>\n",
       "      <td>-0.90%</td>\n",
       "      <td>NaN</td>\n",
       "    </tr>\n",
       "    <tr>\n",
       "      <th>4</th>\n",
       "      <td>2022-10-04</td>\n",
       "      <td>20,340.20</td>\n",
       "      <td>19,629.70</td>\n",
       "      <td>19,984.95</td>\n",
       "      <td>20,436.10</td>\n",
       "      <td>19,506.40</td>\n",
       "      <td>368.17</td>\n",
       "      <td>368170</td>\n",
       "      <td>NaN</td>\n",
       "      <td>3.63%</td>\n",
       "      <td>NaN</td>\n",
       "    </tr>\n",
       "  </tbody>\n",
       "</table>\n",
       "</div>"
      ],
      "text/plain": [
       "          Day      Close       Open    Average  HighValue   LowValue  \\\n",
       "0  2022-10-08  19,522.60  19,530.20  19,526.40  19,612.20  19,432.60   \n",
       "1  2022-10-07  19,531.30  19,962.40  19,746.85  20,051.40  19,352.10   \n",
       "2  2022-10-06  19,956.70  20,157.50  20,057.10  20,436.70  19,873.70   \n",
       "3  2022-10-05  20,157.50  20,340.50  20,249.00  20,353.80  19,761.70   \n",
       "4  2022-10-04  20,340.20  19,629.70  19,984.95  20,436.10  19,506.40   \n",
       "\n",
       "  Unnamed: 6 Unnamed: 7  Unnamed: 8 Change%  Volume  \n",
       "0     230.15     230150         NaN  -0.04%     NaN  \n",
       "1      263.5     263500         NaN  -2.13%     NaN  \n",
       "2      370.6     370600         NaN  -1.00%     NaN  \n",
       "3     352.76     352760         NaN  -0.90%     NaN  \n",
       "4     368.17     368170         NaN   3.63%     NaN  "
      ]
     },
     "execution_count": 3,
     "metadata": {},
     "output_type": "execute_result"
    }
   ],
   "source": [
    "prices.head()"
   ]
  },
  {
   "cell_type": "code",
   "execution_count": 4,
   "id": "36ecb97e",
   "metadata": {},
   "outputs": [
    {
     "data": {
      "text/html": [
       "<div>\n",
       "<style scoped>\n",
       "    .dataframe tbody tr th:only-of-type {\n",
       "        vertical-align: middle;\n",
       "    }\n",
       "\n",
       "    .dataframe tbody tr th {\n",
       "        vertical-align: top;\n",
       "    }\n",
       "\n",
       "    .dataframe thead th {\n",
       "        text-align: right;\n",
       "    }\n",
       "</style>\n",
       "<table border=\"1\" class=\"dataframe\">\n",
       "  <thead>\n",
       "    <tr style=\"text-align: right;\">\n",
       "      <th></th>\n",
       "      <th>Day</th>\n",
       "      <th>Close</th>\n",
       "      <th>Open</th>\n",
       "      <th>Average</th>\n",
       "      <th>HighValue</th>\n",
       "      <th>LowValue</th>\n",
       "      <th>Unnamed: 6</th>\n",
       "      <th>Unnamed: 7</th>\n",
       "      <th>Unnamed: 8</th>\n",
       "      <th>Change%</th>\n",
       "      <th>Volume</th>\n",
       "    </tr>\n",
       "  </thead>\n",
       "  <tbody>\n",
       "    <tr>\n",
       "      <th>3198</th>\n",
       "      <td>2014-01-05</td>\n",
       "      <td>1,014.70</td>\n",
       "      <td>924.7</td>\n",
       "      <td>969.7</td>\n",
       "      <td>1,029.90</td>\n",
       "      <td>911.4</td>\n",
       "      <td>21.37</td>\n",
       "      <td>21370</td>\n",
       "      <td>NaN</td>\n",
       "      <td>9.74%</td>\n",
       "      <td>NaN</td>\n",
       "    </tr>\n",
       "    <tr>\n",
       "      <th>3199</th>\n",
       "      <td>2014-01-04</td>\n",
       "      <td>924.7</td>\n",
       "      <td>884.3</td>\n",
       "      <td>904.5</td>\n",
       "      <td>932.2</td>\n",
       "      <td>848.3</td>\n",
       "      <td>14.24</td>\n",
       "      <td>14240</td>\n",
       "      <td>NaN</td>\n",
       "      <td>4.57%</td>\n",
       "      <td>NaN</td>\n",
       "    </tr>\n",
       "    <tr>\n",
       "      <th>3200</th>\n",
       "      <td>2014-01-03</td>\n",
       "      <td>884.3</td>\n",
       "      <td>856.9</td>\n",
       "      <td>870.6</td>\n",
       "      <td>888.2</td>\n",
       "      <td>839.4</td>\n",
       "      <td>9.71</td>\n",
       "      <td>9710</td>\n",
       "      <td>NaN</td>\n",
       "      <td>3.19%</td>\n",
       "      <td>NaN</td>\n",
       "    </tr>\n",
       "    <tr>\n",
       "      <th>3201</th>\n",
       "      <td>2014-01-02</td>\n",
       "      <td>856.9</td>\n",
       "      <td>815.9</td>\n",
       "      <td>836.4</td>\n",
       "      <td>886.2</td>\n",
       "      <td>810.5</td>\n",
       "      <td>12.81</td>\n",
       "      <td>12810</td>\n",
       "      <td>NaN</td>\n",
       "      <td>5.02%</td>\n",
       "      <td>NaN</td>\n",
       "    </tr>\n",
       "    <tr>\n",
       "      <th>3202</th>\n",
       "      <td>2014-01-01</td>\n",
       "      <td>815.9</td>\n",
       "      <td>805.9</td>\n",
       "      <td>810.9</td>\n",
       "      <td>829.9</td>\n",
       "      <td>771</td>\n",
       "      <td>10.76</td>\n",
       "      <td>10760</td>\n",
       "      <td>NaN</td>\n",
       "      <td>1.24%</td>\n",
       "      <td>NaN</td>\n",
       "    </tr>\n",
       "  </tbody>\n",
       "</table>\n",
       "</div>"
      ],
      "text/plain": [
       "             Day     Close   Open Average HighValue LowValue Unnamed: 6  \\\n",
       "3198  2014-01-05  1,014.70  924.7   969.7  1,029.90    911.4      21.37   \n",
       "3199  2014-01-04     924.7  884.3   904.5     932.2    848.3      14.24   \n",
       "3200  2014-01-03     884.3  856.9   870.6     888.2    839.4       9.71   \n",
       "3201  2014-01-02     856.9  815.9   836.4     886.2    810.5      12.81   \n",
       "3202  2014-01-01     815.9  805.9   810.9     829.9      771      10.76   \n",
       "\n",
       "     Unnamed: 7  Unnamed: 8 Change%  Volume  \n",
       "3198      21370         NaN   9.74%     NaN  \n",
       "3199      14240         NaN   4.57%     NaN  \n",
       "3200       9710         NaN   3.19%     NaN  \n",
       "3201      12810         NaN   5.02%     NaN  \n",
       "3202      10760         NaN   1.24%     NaN  "
      ]
     },
     "execution_count": 4,
     "metadata": {},
     "output_type": "execute_result"
    }
   ],
   "source": [
    "prices.tail()"
   ]
  },
  {
   "cell_type": "code",
   "execution_count": 5,
   "id": "b219a88d",
   "metadata": {},
   "outputs": [
    {
     "data": {
      "text/html": [
       "<div>\n",
       "<style scoped>\n",
       "    .dataframe tbody tr th:only-of-type {\n",
       "        vertical-align: middle;\n",
       "    }\n",
       "\n",
       "    .dataframe tbody tr th {\n",
       "        vertical-align: top;\n",
       "    }\n",
       "\n",
       "    .dataframe thead th {\n",
       "        text-align: right;\n",
       "    }\n",
       "</style>\n",
       "<table border=\"1\" class=\"dataframe\">\n",
       "  <thead>\n",
       "    <tr style=\"text-align: right;\">\n",
       "      <th></th>\n",
       "      <th>Unnamed: 8</th>\n",
       "      <th>Volume</th>\n",
       "    </tr>\n",
       "  </thead>\n",
       "  <tbody>\n",
       "    <tr>\n",
       "      <th>count</th>\n",
       "      <td>0.0</td>\n",
       "      <td>0.0</td>\n",
       "    </tr>\n",
       "    <tr>\n",
       "      <th>mean</th>\n",
       "      <td>NaN</td>\n",
       "      <td>NaN</td>\n",
       "    </tr>\n",
       "    <tr>\n",
       "      <th>std</th>\n",
       "      <td>NaN</td>\n",
       "      <td>NaN</td>\n",
       "    </tr>\n",
       "    <tr>\n",
       "      <th>min</th>\n",
       "      <td>NaN</td>\n",
       "      <td>NaN</td>\n",
       "    </tr>\n",
       "    <tr>\n",
       "      <th>25%</th>\n",
       "      <td>NaN</td>\n",
       "      <td>NaN</td>\n",
       "    </tr>\n",
       "    <tr>\n",
       "      <th>50%</th>\n",
       "      <td>NaN</td>\n",
       "      <td>NaN</td>\n",
       "    </tr>\n",
       "    <tr>\n",
       "      <th>75%</th>\n",
       "      <td>NaN</td>\n",
       "      <td>NaN</td>\n",
       "    </tr>\n",
       "    <tr>\n",
       "      <th>max</th>\n",
       "      <td>NaN</td>\n",
       "      <td>NaN</td>\n",
       "    </tr>\n",
       "  </tbody>\n",
       "</table>\n",
       "</div>"
      ],
      "text/plain": [
       "       Unnamed: 8  Volume\n",
       "count         0.0     0.0\n",
       "mean          NaN     NaN\n",
       "std           NaN     NaN\n",
       "min           NaN     NaN\n",
       "25%           NaN     NaN\n",
       "50%           NaN     NaN\n",
       "75%           NaN     NaN\n",
       "max           NaN     NaN"
      ]
     },
     "execution_count": 5,
     "metadata": {},
     "output_type": "execute_result"
    }
   ],
   "source": [
    "prices.describe()"
   ]
  },
  {
   "cell_type": "code",
   "execution_count": 6,
   "id": "263b1662",
   "metadata": {},
   "outputs": [],
   "source": [
    "prices.drop(columns=['Unnamed: 6', 'Unnamed: 7', 'Unnamed: 8', 'Change%', 'Volume'], axis=1, inplace=True)"
   ]
  },
  {
   "cell_type": "code",
   "execution_count": 7,
   "id": "8b9149e3",
   "metadata": {},
   "outputs": [
    {
     "data": {
      "text/html": [
       "<div>\n",
       "<style scoped>\n",
       "    .dataframe tbody tr th:only-of-type {\n",
       "        vertical-align: middle;\n",
       "    }\n",
       "\n",
       "    .dataframe tbody tr th {\n",
       "        vertical-align: top;\n",
       "    }\n",
       "\n",
       "    .dataframe thead th {\n",
       "        text-align: right;\n",
       "    }\n",
       "</style>\n",
       "<table border=\"1\" class=\"dataframe\">\n",
       "  <thead>\n",
       "    <tr style=\"text-align: right;\">\n",
       "      <th></th>\n",
       "      <th>Day</th>\n",
       "      <th>Close</th>\n",
       "      <th>Open</th>\n",
       "      <th>Average</th>\n",
       "      <th>HighValue</th>\n",
       "      <th>LowValue</th>\n",
       "    </tr>\n",
       "  </thead>\n",
       "  <tbody>\n",
       "    <tr>\n",
       "      <th>0</th>\n",
       "      <td>2022-10-08</td>\n",
       "      <td>19,522.60</td>\n",
       "      <td>19,530.20</td>\n",
       "      <td>19,526.40</td>\n",
       "      <td>19,612.20</td>\n",
       "      <td>19,432.60</td>\n",
       "    </tr>\n",
       "    <tr>\n",
       "      <th>1</th>\n",
       "      <td>2022-10-07</td>\n",
       "      <td>19,531.30</td>\n",
       "      <td>19,962.40</td>\n",
       "      <td>19,746.85</td>\n",
       "      <td>20,051.40</td>\n",
       "      <td>19,352.10</td>\n",
       "    </tr>\n",
       "    <tr>\n",
       "      <th>2</th>\n",
       "      <td>2022-10-06</td>\n",
       "      <td>19,956.70</td>\n",
       "      <td>20,157.50</td>\n",
       "      <td>20,057.10</td>\n",
       "      <td>20,436.70</td>\n",
       "      <td>19,873.70</td>\n",
       "    </tr>\n",
       "    <tr>\n",
       "      <th>3</th>\n",
       "      <td>2022-10-05</td>\n",
       "      <td>20,157.50</td>\n",
       "      <td>20,340.50</td>\n",
       "      <td>20,249.00</td>\n",
       "      <td>20,353.80</td>\n",
       "      <td>19,761.70</td>\n",
       "    </tr>\n",
       "    <tr>\n",
       "      <th>4</th>\n",
       "      <td>2022-10-04</td>\n",
       "      <td>20,340.20</td>\n",
       "      <td>19,629.70</td>\n",
       "      <td>19,984.95</td>\n",
       "      <td>20,436.10</td>\n",
       "      <td>19,506.40</td>\n",
       "    </tr>\n",
       "    <tr>\n",
       "      <th>...</th>\n",
       "      <td>...</td>\n",
       "      <td>...</td>\n",
       "      <td>...</td>\n",
       "      <td>...</td>\n",
       "      <td>...</td>\n",
       "      <td>...</td>\n",
       "    </tr>\n",
       "    <tr>\n",
       "      <th>3198</th>\n",
       "      <td>2014-01-05</td>\n",
       "      <td>1,014.70</td>\n",
       "      <td>924.7</td>\n",
       "      <td>969.7</td>\n",
       "      <td>1,029.90</td>\n",
       "      <td>911.4</td>\n",
       "    </tr>\n",
       "    <tr>\n",
       "      <th>3199</th>\n",
       "      <td>2014-01-04</td>\n",
       "      <td>924.7</td>\n",
       "      <td>884.3</td>\n",
       "      <td>904.5</td>\n",
       "      <td>932.2</td>\n",
       "      <td>848.3</td>\n",
       "    </tr>\n",
       "    <tr>\n",
       "      <th>3200</th>\n",
       "      <td>2014-01-03</td>\n",
       "      <td>884.3</td>\n",
       "      <td>856.9</td>\n",
       "      <td>870.6</td>\n",
       "      <td>888.2</td>\n",
       "      <td>839.4</td>\n",
       "    </tr>\n",
       "    <tr>\n",
       "      <th>3201</th>\n",
       "      <td>2014-01-02</td>\n",
       "      <td>856.9</td>\n",
       "      <td>815.9</td>\n",
       "      <td>836.4</td>\n",
       "      <td>886.2</td>\n",
       "      <td>810.5</td>\n",
       "    </tr>\n",
       "    <tr>\n",
       "      <th>3202</th>\n",
       "      <td>2014-01-01</td>\n",
       "      <td>815.9</td>\n",
       "      <td>805.9</td>\n",
       "      <td>810.9</td>\n",
       "      <td>829.9</td>\n",
       "      <td>771</td>\n",
       "    </tr>\n",
       "  </tbody>\n",
       "</table>\n",
       "<p>3203 rows × 6 columns</p>\n",
       "</div>"
      ],
      "text/plain": [
       "             Day      Close       Open    Average  HighValue   LowValue\n",
       "0     2022-10-08  19,522.60  19,530.20  19,526.40  19,612.20  19,432.60\n",
       "1     2022-10-07  19,531.30  19,962.40  19,746.85  20,051.40  19,352.10\n",
       "2     2022-10-06  19,956.70  20,157.50  20,057.10  20,436.70  19,873.70\n",
       "3     2022-10-05  20,157.50  20,340.50  20,249.00  20,353.80  19,761.70\n",
       "4     2022-10-04  20,340.20  19,629.70  19,984.95  20,436.10  19,506.40\n",
       "...          ...        ...        ...        ...        ...        ...\n",
       "3198  2014-01-05   1,014.70      924.7      969.7   1,029.90      911.4\n",
       "3199  2014-01-04      924.7      884.3      904.5      932.2      848.3\n",
       "3200  2014-01-03      884.3      856.9      870.6      888.2      839.4\n",
       "3201  2014-01-02      856.9      815.9      836.4      886.2      810.5\n",
       "3202  2014-01-01      815.9      805.9      810.9      829.9        771\n",
       "\n",
       "[3203 rows x 6 columns]"
      ]
     },
     "execution_count": 7,
     "metadata": {},
     "output_type": "execute_result"
    }
   ],
   "source": [
    "prices"
   ]
  },
  {
   "cell_type": "code",
   "execution_count": 8,
   "id": "f3e66b3e",
   "metadata": {},
   "outputs": [
    {
     "data": {
      "text/plain": [
       "Day          0\n",
       "Close        0\n",
       "Open         0\n",
       "Average      0\n",
       "HighValue    0\n",
       "LowValue     0\n",
       "dtype: int64"
      ]
     },
     "execution_count": 8,
     "metadata": {},
     "output_type": "execute_result"
    }
   ],
   "source": [
    "prices.isna().sum()"
   ]
  },
  {
   "cell_type": "code",
   "execution_count": 9,
   "id": "52670a17",
   "metadata": {},
   "outputs": [
    {
     "data": {
      "text/plain": [
       "Day          object\n",
       "Close        object\n",
       "Open         object\n",
       "Average      object\n",
       "HighValue    object\n",
       "LowValue     object\n",
       "dtype: object"
      ]
     },
     "execution_count": 9,
     "metadata": {},
     "output_type": "execute_result"
    }
   ],
   "source": [
    "prices.dtypes"
   ]
  },
  {
   "cell_type": "code",
   "execution_count": 10,
   "id": "3e198f41",
   "metadata": {},
   "outputs": [],
   "source": [
    "prices['Day'] = pd.to_datetime(prices.Day)"
   ]
  },
  {
   "cell_type": "code",
   "execution_count": 11,
   "id": "ff8ff314",
   "metadata": {},
   "outputs": [
    {
     "data": {
      "text/plain": [
       "Day          datetime64[ns]\n",
       "Close                object\n",
       "Open                 object\n",
       "Average              object\n",
       "HighValue            object\n",
       "LowValue             object\n",
       "dtype: object"
      ]
     },
     "execution_count": 11,
     "metadata": {},
     "output_type": "execute_result"
    }
   ],
   "source": [
    "prices.dtypes"
   ]
  },
  {
   "cell_type": "code",
   "execution_count": 12,
   "id": "9472faa9",
   "metadata": {},
   "outputs": [],
   "source": [
    "prices['Close'] = prices['Close'].replace(',', '', regex=True).values"
   ]
  },
  {
   "cell_type": "code",
   "execution_count": 13,
   "id": "e164f275",
   "metadata": {},
   "outputs": [],
   "source": [
    "prices['Close']=prices['Close'].astype(float)"
   ]
  },
  {
   "cell_type": "code",
   "execution_count": 14,
   "id": "f36de15f",
   "metadata": {},
   "outputs": [
    {
     "data": {
      "text/plain": [
       "Day          datetime64[ns]\n",
       "Close               float64\n",
       "Open                 object\n",
       "Average              object\n",
       "HighValue            object\n",
       "LowValue             object\n",
       "dtype: object"
      ]
     },
     "execution_count": 14,
     "metadata": {},
     "output_type": "execute_result"
    }
   ],
   "source": [
    "prices.dtypes"
   ]
  },
  {
   "cell_type": "code",
   "execution_count": 15,
   "id": "90f1db9d",
   "metadata": {},
   "outputs": [],
   "source": [
    "prices['Open'] = prices['Open'].replace(',', '', regex=True).values"
   ]
  },
  {
   "cell_type": "code",
   "execution_count": 16,
   "id": "fb056b5d",
   "metadata": {},
   "outputs": [],
   "source": [
    "prices['Open']=prices['Open'].astype(float)"
   ]
  },
  {
   "cell_type": "code",
   "execution_count": 17,
   "id": "48255ff5",
   "metadata": {},
   "outputs": [],
   "source": [
    "prices['Average'] = prices['Average'].replace(',', '', regex=True).values"
   ]
  },
  {
   "cell_type": "code",
   "execution_count": 18,
   "id": "c96e39fd",
   "metadata": {},
   "outputs": [],
   "source": [
    "prices['Average']=prices['Average'].astype(float)"
   ]
  },
  {
   "cell_type": "code",
   "execution_count": 19,
   "id": "957a70de",
   "metadata": {},
   "outputs": [],
   "source": [
    "prices['HighValue'] = prices['HighValue'].replace(',', '', regex=True).values"
   ]
  },
  {
   "cell_type": "code",
   "execution_count": 20,
   "id": "d0741806",
   "metadata": {
    "scrolled": true
   },
   "outputs": [],
   "source": [
    "prices['HighValue']=prices['HighValue'].astype(float)"
   ]
  },
  {
   "cell_type": "code",
   "execution_count": 21,
   "id": "ec10301f",
   "metadata": {},
   "outputs": [],
   "source": [
    "prices['LowValue'] = prices['LowValue'].replace(',', '', regex=True).values"
   ]
  },
  {
   "cell_type": "code",
   "execution_count": 22,
   "id": "2fa650bf",
   "metadata": {
    "scrolled": true
   },
   "outputs": [],
   "source": [
    "prices['LowValue']=prices['LowValue'].astype(float)"
   ]
  },
  {
   "cell_type": "code",
   "execution_count": 23,
   "id": "0026dfaf",
   "metadata": {},
   "outputs": [
    {
     "data": {
      "text/plain": [
       "Day          datetime64[ns]\n",
       "Close               float64\n",
       "Open                float64\n",
       "Average             float64\n",
       "HighValue           float64\n",
       "LowValue            float64\n",
       "dtype: object"
      ]
     },
     "execution_count": 23,
     "metadata": {},
     "output_type": "execute_result"
    }
   ],
   "source": [
    "prices.dtypes"
   ]
  },
  {
   "cell_type": "code",
   "execution_count": 24,
   "id": "cd1619cb",
   "metadata": {},
   "outputs": [
    {
     "data": {
      "text/plain": [
       "<AxesSubplot:title={'center':'Bitcoin Price'}, xlabel='Day', ylabel='Close'>"
      ]
     },
     "execution_count": 24,
     "metadata": {},
     "output_type": "execute_result"
    },
    {
     "data": {
      "image/png": "[encoded data removed]",
      "text/plain": [
       "<Figure size 1000x800 with 1 Axes>"
      ]
     },
     "metadata": {},
     "output_type": "display_data"
    }
   ],
   "source": [
    "# plotting the data\n",
    "prices.plot(title = \"Bitcoin Price\", x = \"Day\", y = \"Close\", figsize = (10,8), ylabel = \"Close\")"
   ]
  },
  {
   "cell_type": "code",
   "execution_count": 25,
   "id": "8070e209",
   "metadata": {},
   "outputs": [],
   "source": [
    "# Calculate OHLC Average\n",
    "prices['OHLC'] = (prices['Open'] + prices['HighValue'] + prices['LowValue'] + prices['Close'])/4"
   ]
  },
  {
   "cell_type": "code",
   "execution_count": 26,
   "id": "952f64f2",
   "metadata": {},
   "outputs": [
    {
     "data": {
      "text/html": [
       "<div>\n",
       "<style scoped>\n",
       "    .dataframe tbody tr th:only-of-type {\n",
       "        vertical-align: middle;\n",
       "    }\n",
       "\n",
       "    .dataframe tbody tr th {\n",
       "        vertical-align: top;\n",
       "    }\n",
       "\n",
       "    .dataframe thead th {\n",
       "        text-align: right;\n",
       "    }\n",
       "</style>\n",
       "<table border=\"1\" class=\"dataframe\">\n",
       "  <thead>\n",
       "    <tr style=\"text-align: right;\">\n",
       "      <th></th>\n",
       "      <th>Day</th>\n",
       "      <th>Close</th>\n",
       "      <th>Open</th>\n",
       "      <th>Average</th>\n",
       "      <th>HighValue</th>\n",
       "      <th>LowValue</th>\n",
       "      <th>OHLC</th>\n",
       "    </tr>\n",
       "  </thead>\n",
       "  <tbody>\n",
       "    <tr>\n",
       "      <th>0</th>\n",
       "      <td>2022-10-08</td>\n",
       "      <td>19522.6</td>\n",
       "      <td>19530.2</td>\n",
       "      <td>19526.40</td>\n",
       "      <td>19612.2</td>\n",
       "      <td>19432.6</td>\n",
       "      <td>19524.400</td>\n",
       "    </tr>\n",
       "    <tr>\n",
       "      <th>1</th>\n",
       "      <td>2022-10-07</td>\n",
       "      <td>19531.3</td>\n",
       "      <td>19962.4</td>\n",
       "      <td>19746.85</td>\n",
       "      <td>20051.4</td>\n",
       "      <td>19352.1</td>\n",
       "      <td>19724.300</td>\n",
       "    </tr>\n",
       "    <tr>\n",
       "      <th>2</th>\n",
       "      <td>2022-10-06</td>\n",
       "      <td>19956.7</td>\n",
       "      <td>20157.5</td>\n",
       "      <td>20057.10</td>\n",
       "      <td>20436.7</td>\n",
       "      <td>19873.7</td>\n",
       "      <td>20106.150</td>\n",
       "    </tr>\n",
       "    <tr>\n",
       "      <th>3</th>\n",
       "      <td>2022-10-05</td>\n",
       "      <td>20157.5</td>\n",
       "      <td>20340.5</td>\n",
       "      <td>20249.00</td>\n",
       "      <td>20353.8</td>\n",
       "      <td>19761.7</td>\n",
       "      <td>20153.375</td>\n",
       "    </tr>\n",
       "    <tr>\n",
       "      <th>4</th>\n",
       "      <td>2022-10-04</td>\n",
       "      <td>20340.2</td>\n",
       "      <td>19629.7</td>\n",
       "      <td>19984.95</td>\n",
       "      <td>20436.1</td>\n",
       "      <td>19506.4</td>\n",
       "      <td>19978.100</td>\n",
       "    </tr>\n",
       "    <tr>\n",
       "      <th>...</th>\n",
       "      <td>...</td>\n",
       "      <td>...</td>\n",
       "      <td>...</td>\n",
       "      <td>...</td>\n",
       "      <td>...</td>\n",
       "      <td>...</td>\n",
       "      <td>...</td>\n",
       "    </tr>\n",
       "    <tr>\n",
       "      <th>3198</th>\n",
       "      <td>2014-01-05</td>\n",
       "      <td>1014.7</td>\n",
       "      <td>924.7</td>\n",
       "      <td>969.70</td>\n",
       "      <td>1029.9</td>\n",
       "      <td>911.4</td>\n",
       "      <td>970.175</td>\n",
       "    </tr>\n",
       "    <tr>\n",
       "      <th>3199</th>\n",
       "      <td>2014-01-04</td>\n",
       "      <td>924.7</td>\n",
       "      <td>884.3</td>\n",
       "      <td>904.50</td>\n",
       "      <td>932.2</td>\n",
       "      <td>848.3</td>\n",
       "      <td>897.375</td>\n",
       "    </tr>\n",
       "    <tr>\n",
       "      <th>3200</th>\n",
       "      <td>2014-01-03</td>\n",
       "      <td>884.3</td>\n",
       "      <td>856.9</td>\n",
       "      <td>870.60</td>\n",
       "      <td>888.2</td>\n",
       "      <td>839.4</td>\n",
       "      <td>867.200</td>\n",
       "    </tr>\n",
       "    <tr>\n",
       "      <th>3201</th>\n",
       "      <td>2014-01-02</td>\n",
       "      <td>856.9</td>\n",
       "      <td>815.9</td>\n",
       "      <td>836.40</td>\n",
       "      <td>886.2</td>\n",
       "      <td>810.5</td>\n",
       "      <td>842.375</td>\n",
       "    </tr>\n",
       "    <tr>\n",
       "      <th>3202</th>\n",
       "      <td>2014-01-01</td>\n",
       "      <td>815.9</td>\n",
       "      <td>805.9</td>\n",
       "      <td>810.90</td>\n",
       "      <td>829.9</td>\n",
       "      <td>771.0</td>\n",
       "      <td>805.675</td>\n",
       "    </tr>\n",
       "  </tbody>\n",
       "</table>\n",
       "<p>3203 rows × 7 columns</p>\n",
       "</div>"
      ],
      "text/plain": [
       "            Day    Close     Open   Average  HighValue  LowValue       OHLC\n",
       "0    2022-10-08  19522.6  19530.2  19526.40    19612.2   19432.6  19524.400\n",
       "1    2022-10-07  19531.3  19962.4  19746.85    20051.4   19352.1  19724.300\n",
       "2    2022-10-06  19956.7  20157.5  20057.10    20436.7   19873.7  20106.150\n",
       "3    2022-10-05  20157.5  20340.5  20249.00    20353.8   19761.7  20153.375\n",
       "4    2022-10-04  20340.2  19629.7  19984.95    20436.1   19506.4  19978.100\n",
       "...         ...      ...      ...       ...        ...       ...        ...\n",
       "3198 2014-01-05   1014.7    924.7    969.70     1029.9     911.4    970.175\n",
       "3199 2014-01-04    924.7    884.3    904.50      932.2     848.3    897.375\n",
       "3200 2014-01-03    884.3    856.9    870.60      888.2     839.4    867.200\n",
       "3201 2014-01-02    856.9    815.9    836.40      886.2     810.5    842.375\n",
       "3202 2014-01-01    815.9    805.9    810.90      829.9     771.0    805.675\n",
       "\n",
       "[3203 rows x 7 columns]"
      ]
     },
     "execution_count": 26,
     "metadata": {},
     "output_type": "execute_result"
    }
   ],
   "source": [
    "prices"
   ]
  },
  {
   "cell_type": "code",
   "execution_count": 27,
   "id": "f14ca6b9",
   "metadata": {},
   "outputs": [],
   "source": [
    "# Caluclate 30-day close simple moving average (SMA)\n",
    "prices['30SMA_Close'] = prices.iloc[:,2].rolling(window = 30).mean()      "
   ]
  },
  {
   "cell_type": "code",
   "execution_count": 28,
   "id": "556c037d",
   "metadata": {},
   "outputs": [],
   "source": [
    "# Caluclate 30-day close simple moving average (SMA) of OHLC\n",
    "prices['30SMA_OHLC'] = prices.iloc[:,7].rolling(window = 30).mean()      "
   ]
  },
  {
   "cell_type": "code",
   "execution_count": 29,
   "id": "11da72c7",
   "metadata": {},
   "outputs": [
    {
     "data": {
      "text/html": [
       "<div>\n",
       "<style scoped>\n",
       "    .dataframe tbody tr th:only-of-type {\n",
       "        vertical-align: middle;\n",
       "    }\n",
       "\n",
       "    .dataframe tbody tr th {\n",
       "        vertical-align: top;\n",
       "    }\n",
       "\n",
       "    .dataframe thead th {\n",
       "        text-align: right;\n",
       "    }\n",
       "</style>\n",
       "<table border=\"1\" class=\"dataframe\">\n",
       "  <thead>\n",
       "    <tr style=\"text-align: right;\">\n",
       "      <th></th>\n",
       "      <th>Day</th>\n",
       "      <th>Close</th>\n",
       "      <th>Open</th>\n",
       "      <th>Average</th>\n",
       "      <th>HighValue</th>\n",
       "      <th>LowValue</th>\n",
       "      <th>OHLC</th>\n",
       "      <th>30SMA_Close</th>\n",
       "      <th>30SMA_OHLC</th>\n",
       "    </tr>\n",
       "  </thead>\n",
       "  <tbody>\n",
       "    <tr>\n",
       "      <th>0</th>\n",
       "      <td>2022-10-08</td>\n",
       "      <td>19522.6</td>\n",
       "      <td>19530.2</td>\n",
       "      <td>19526.40</td>\n",
       "      <td>19612.2</td>\n",
       "      <td>19432.6</td>\n",
       "      <td>19524.400</td>\n",
       "      <td>NaN</td>\n",
       "      <td>NaN</td>\n",
       "    </tr>\n",
       "    <tr>\n",
       "      <th>1</th>\n",
       "      <td>2022-10-07</td>\n",
       "      <td>19531.3</td>\n",
       "      <td>19962.4</td>\n",
       "      <td>19746.85</td>\n",
       "      <td>20051.4</td>\n",
       "      <td>19352.1</td>\n",
       "      <td>19724.300</td>\n",
       "      <td>NaN</td>\n",
       "      <td>NaN</td>\n",
       "    </tr>\n",
       "    <tr>\n",
       "      <th>2</th>\n",
       "      <td>2022-10-06</td>\n",
       "      <td>19956.7</td>\n",
       "      <td>20157.5</td>\n",
       "      <td>20057.10</td>\n",
       "      <td>20436.7</td>\n",
       "      <td>19873.7</td>\n",
       "      <td>20106.150</td>\n",
       "      <td>NaN</td>\n",
       "      <td>NaN</td>\n",
       "    </tr>\n",
       "    <tr>\n",
       "      <th>3</th>\n",
       "      <td>2022-10-05</td>\n",
       "      <td>20157.5</td>\n",
       "      <td>20340.5</td>\n",
       "      <td>20249.00</td>\n",
       "      <td>20353.8</td>\n",
       "      <td>19761.7</td>\n",
       "      <td>20153.375</td>\n",
       "      <td>NaN</td>\n",
       "      <td>NaN</td>\n",
       "    </tr>\n",
       "    <tr>\n",
       "      <th>4</th>\n",
       "      <td>2022-10-04</td>\n",
       "      <td>20340.2</td>\n",
       "      <td>19629.7</td>\n",
       "      <td>19984.95</td>\n",
       "      <td>20436.1</td>\n",
       "      <td>19506.4</td>\n",
       "      <td>19978.100</td>\n",
       "      <td>NaN</td>\n",
       "      <td>NaN</td>\n",
       "    </tr>\n",
       "    <tr>\n",
       "      <th>...</th>\n",
       "      <td>...</td>\n",
       "      <td>...</td>\n",
       "      <td>...</td>\n",
       "      <td>...</td>\n",
       "      <td>...</td>\n",
       "      <td>...</td>\n",
       "      <td>...</td>\n",
       "      <td>...</td>\n",
       "      <td>...</td>\n",
       "    </tr>\n",
       "    <tr>\n",
       "      <th>3198</th>\n",
       "      <td>2014-01-05</td>\n",
       "      <td>1014.7</td>\n",
       "      <td>924.7</td>\n",
       "      <td>969.70</td>\n",
       "      <td>1029.9</td>\n",
       "      <td>911.4</td>\n",
       "      <td>970.175</td>\n",
       "      <td>944.533333</td>\n",
       "      <td>758.639333</td>\n",
       "    </tr>\n",
       "    <tr>\n",
       "      <th>3199</th>\n",
       "      <td>2014-01-04</td>\n",
       "      <td>924.7</td>\n",
       "      <td>884.3</td>\n",
       "      <td>904.50</td>\n",
       "      <td>932.2</td>\n",
       "      <td>848.3</td>\n",
       "      <td>897.375</td>\n",
       "      <td>942.233333</td>\n",
       "      <td>773.106667</td>\n",
       "    </tr>\n",
       "    <tr>\n",
       "      <th>3200</th>\n",
       "      <td>2014-01-03</td>\n",
       "      <td>884.3</td>\n",
       "      <td>856.9</td>\n",
       "      <td>870.60</td>\n",
       "      <td>888.2</td>\n",
       "      <td>839.4</td>\n",
       "      <td>867.200</td>\n",
       "      <td>939.450000</td>\n",
       "      <td>787.172111</td>\n",
       "    </tr>\n",
       "    <tr>\n",
       "      <th>3201</th>\n",
       "      <td>2014-01-02</td>\n",
       "      <td>856.9</td>\n",
       "      <td>815.9</td>\n",
       "      <td>836.40</td>\n",
       "      <td>886.2</td>\n",
       "      <td>810.5</td>\n",
       "      <td>842.375</td>\n",
       "      <td>935.353333</td>\n",
       "      <td>800.663000</td>\n",
       "    </tr>\n",
       "    <tr>\n",
       "      <th>3202</th>\n",
       "      <td>2014-01-01</td>\n",
       "      <td>815.9</td>\n",
       "      <td>805.9</td>\n",
       "      <td>810.90</td>\n",
       "      <td>829.9</td>\n",
       "      <td>771.0</td>\n",
       "      <td>805.675</td>\n",
       "      <td>930.836667</td>\n",
       "      <td>813.576667</td>\n",
       "    </tr>\n",
       "  </tbody>\n",
       "</table>\n",
       "<p>3203 rows × 9 columns</p>\n",
       "</div>"
      ],
      "text/plain": [
       "            Day    Close     Open   Average  HighValue  LowValue       OHLC  \\\n",
       "0    2022-10-08  19522.6  19530.2  19526.40    19612.2   19432.6  19524.400   \n",
       "1    2022-10-07  19531.3  19962.4  19746.85    20051.4   19352.1  19724.300   \n",
       "2    2022-10-06  19956.7  20157.5  20057.10    20436.7   19873.7  20106.150   \n",
       "3    2022-10-05  20157.5  20340.5  20249.00    20353.8   19761.7  20153.375   \n",
       "4    2022-10-04  20340.2  19629.7  19984.95    20436.1   19506.4  19978.100   \n",
       "...         ...      ...      ...       ...        ...       ...        ...   \n",
       "3198 2014-01-05   1014.7    924.7    969.70     1029.9     911.4    970.175   \n",
       "3199 2014-01-04    924.7    884.3    904.50      932.2     848.3    897.375   \n",
       "3200 2014-01-03    884.3    856.9    870.60      888.2     839.4    867.200   \n",
       "3201 2014-01-02    856.9    815.9    836.40      886.2     810.5    842.375   \n",
       "3202 2014-01-01    815.9    805.9    810.90      829.9     771.0    805.675   \n",
       "\n",
       "      30SMA_Close  30SMA_OHLC  \n",
       "0             NaN         NaN  \n",
       "1             NaN         NaN  \n",
       "2             NaN         NaN  \n",
       "3             NaN         NaN  \n",
       "4             NaN         NaN  \n",
       "...           ...         ...  \n",
       "3198   944.533333  758.639333  \n",
       "3199   942.233333  773.106667  \n",
       "3200   939.450000  787.172111  \n",
       "3201   935.353333  800.663000  \n",
       "3202   930.836667  813.576667  \n",
       "\n",
       "[3203 rows x 9 columns]"
      ]
     },
     "execution_count": 29,
     "metadata": {},
     "output_type": "execute_result"
    }
   ],
   "source": [
    "prices"
   ]
  },
  {
   "cell_type": "code",
   "execution_count": 30,
   "id": "c262c28f",
   "metadata": {},
   "outputs": [
    {
     "data": {
      "text/plain": [
       "Day             0\n",
       "Close           0\n",
       "Open            0\n",
       "Average         0\n",
       "HighValue       0\n",
       "LowValue        0\n",
       "OHLC            0\n",
       "30SMA_Close    29\n",
       "30SMA_OHLC     58\n",
       "dtype: int64"
      ]
     },
     "execution_count": 30,
     "metadata": {},
     "output_type": "execute_result"
    }
   ],
   "source": [
    "prices.isna().sum()"
   ]
  },
  {
   "cell_type": "markdown",
   "id": "5e401f25",
   "metadata": {},
   "source": [
    "It is noted that the first 58 rows contain null values. To obtain the most accuate analysis from data, the first 58 rows that contain null values will be dropped."
   ]
  },
  {
   "cell_type": "code",
   "execution_count": 31,
   "id": "66801323",
   "metadata": {},
   "outputs": [
    {
     "data": {
      "text/html": [
       "<div>\n",
       "<style scoped>\n",
       "    .dataframe tbody tr th:only-of-type {\n",
       "        vertical-align: middle;\n",
       "    }\n",
       "\n",
       "    .dataframe tbody tr th {\n",
       "        vertical-align: top;\n",
       "    }\n",
       "\n",
       "    .dataframe thead th {\n",
       "        text-align: right;\n",
       "    }\n",
       "</style>\n",
       "<table border=\"1\" class=\"dataframe\">\n",
       "  <thead>\n",
       "    <tr style=\"text-align: right;\">\n",
       "      <th></th>\n",
       "      <th>Day</th>\n",
       "      <th>Close</th>\n",
       "      <th>Open</th>\n",
       "      <th>Average</th>\n",
       "      <th>HighValue</th>\n",
       "      <th>LowValue</th>\n",
       "      <th>OHLC</th>\n",
       "      <th>30SMA_Close</th>\n",
       "      <th>30SMA_OHLC</th>\n",
       "    </tr>\n",
       "  </thead>\n",
       "  <tbody>\n",
       "    <tr>\n",
       "      <th>0</th>\n",
       "      <td>2022-08-11</td>\n",
       "      <td>23935.3</td>\n",
       "      <td>23963.3</td>\n",
       "      <td>23949.30</td>\n",
       "      <td>24873.5</td>\n",
       "      <td>23864.0</td>\n",
       "      <td>24159.025</td>\n",
       "      <td>21398.670000</td>\n",
       "      <td>20276.020556</td>\n",
       "    </tr>\n",
       "    <tr>\n",
       "      <th>1</th>\n",
       "      <td>2022-08-10</td>\n",
       "      <td>23962.9</td>\n",
       "      <td>23150.3</td>\n",
       "      <td>23556.60</td>\n",
       "      <td>24209.9</td>\n",
       "      <td>22714.7</td>\n",
       "      <td>23509.450</td>\n",
       "      <td>21526.386667</td>\n",
       "      <td>20333.500111</td>\n",
       "    </tr>\n",
       "    <tr>\n",
       "      <th>2</th>\n",
       "      <td>2022-08-09</td>\n",
       "      <td>23146.7</td>\n",
       "      <td>23818.1</td>\n",
       "      <td>23482.40</td>\n",
       "      <td>23912.0</td>\n",
       "      <td>22886.5</td>\n",
       "      <td>23440.825</td>\n",
       "      <td>21677.606667</td>\n",
       "      <td>20396.296667</td>\n",
       "    </tr>\n",
       "    <tr>\n",
       "      <th>3</th>\n",
       "      <td>2022-08-08</td>\n",
       "      <td>23816.3</td>\n",
       "      <td>23175.3</td>\n",
       "      <td>23495.80</td>\n",
       "      <td>24234.1</td>\n",
       "      <td>23160.6</td>\n",
       "      <td>23596.575</td>\n",
       "      <td>21823.906667</td>\n",
       "      <td>20465.276667</td>\n",
       "    </tr>\n",
       "    <tr>\n",
       "      <th>4</th>\n",
       "      <td>2022-08-07</td>\n",
       "      <td>23175.3</td>\n",
       "      <td>22944.2</td>\n",
       "      <td>23059.75</td>\n",
       "      <td>23387.7</td>\n",
       "      <td>22852.3</td>\n",
       "      <td>23089.875</td>\n",
       "      <td>21928.933333</td>\n",
       "      <td>20538.162111</td>\n",
       "    </tr>\n",
       "  </tbody>\n",
       "</table>\n",
       "</div>"
      ],
      "text/plain": [
       "         Day    Close     Open   Average  HighValue  LowValue       OHLC  \\\n",
       "0 2022-08-11  23935.3  23963.3  23949.30    24873.5   23864.0  24159.025   \n",
       "1 2022-08-10  23962.9  23150.3  23556.60    24209.9   22714.7  23509.450   \n",
       "2 2022-08-09  23146.7  23818.1  23482.40    23912.0   22886.5  23440.825   \n",
       "3 2022-08-08  23816.3  23175.3  23495.80    24234.1   23160.6  23596.575   \n",
       "4 2022-08-07  23175.3  22944.2  23059.75    23387.7   22852.3  23089.875   \n",
       "\n",
       "    30SMA_Close    30SMA_OHLC  \n",
       "0  21398.670000  20276.020556  \n",
       "1  21526.386667  20333.500111  \n",
       "2  21677.606667  20396.296667  \n",
       "3  21823.906667  20465.276667  \n",
       "4  21928.933333  20538.162111  "
      ]
     },
     "execution_count": 31,
     "metadata": {},
     "output_type": "execute_result"
    }
   ],
   "source": [
    "prices = prices.dropna().reset_index().drop(\"index\", axis = 1)\n",
    "prices.head()"
   ]
  },
  {
   "cell_type": "code",
   "execution_count": 32,
   "id": "f40ea9a1",
   "metadata": {},
   "outputs": [
    {
     "data": {
      "text/plain": [
       "Day            datetime64[ns]\n",
       "Close                 float64\n",
       "Open                  float64\n",
       "Average               float64\n",
       "HighValue             float64\n",
       "LowValue              float64\n",
       "OHLC                  float64\n",
       "30SMA_Close           float64\n",
       "30SMA_OHLC            float64\n",
       "dtype: object"
      ]
     },
     "execution_count": 32,
     "metadata": {},
     "output_type": "execute_result"
    }
   ],
   "source": [
    "prices.dtypes"
   ]
  },
  {
   "cell_type": "markdown",
   "id": "4baff5e6",
   "metadata": {},
   "source": [
    "# Formulating predictive model using linear regression"
   ]
  },
  {
   "cell_type": "code",
   "execution_count": 33,
   "id": "d875b657",
   "metadata": {},
   "outputs": [],
   "source": [
    "mms = MinMaxScaler()\n",
    "mms.fit(prices[['30SMA_OHLC', '30SMA_Close', 'Close']])\n",
    "prices[['30SMA_OHLC', '30SMA_Close', 'Close']] = mms.transform(prices[['30SMA_OHLC', '30SMA_Close', 'Close']])"
   ]
  },
  {
   "cell_type": "code",
   "execution_count": 34,
   "id": "5f700c3e",
   "metadata": {},
   "outputs": [
    {
     "data": {
      "text/html": [
       "<div>\n",
       "<style scoped>\n",
       "    .dataframe tbody tr th:only-of-type {\n",
       "        vertical-align: middle;\n",
       "    }\n",
       "\n",
       "    .dataframe tbody tr th {\n",
       "        vertical-align: top;\n",
       "    }\n",
       "\n",
       "    .dataframe thead th {\n",
       "        text-align: right;\n",
       "    }\n",
       "</style>\n",
       "<table border=\"1\" class=\"dataframe\">\n",
       "  <thead>\n",
       "    <tr style=\"text-align: right;\">\n",
       "      <th></th>\n",
       "      <th>30SMA_OHLC</th>\n",
       "      <th>30SMA_Close</th>\n",
       "    </tr>\n",
       "  </thead>\n",
       "  <tbody>\n",
       "    <tr>\n",
       "      <th>0</th>\n",
       "      <td>0.327263</td>\n",
       "      <td>0.338602</td>\n",
       "    </tr>\n",
       "    <tr>\n",
       "      <th>1</th>\n",
       "      <td>0.328202</td>\n",
       "      <td>0.340644</td>\n",
       "    </tr>\n",
       "    <tr>\n",
       "      <th>2</th>\n",
       "      <td>0.329227</td>\n",
       "      <td>0.343063</td>\n",
       "    </tr>\n",
       "    <tr>\n",
       "      <th>3</th>\n",
       "      <td>0.330353</td>\n",
       "      <td>0.345402</td>\n",
       "    </tr>\n",
       "    <tr>\n",
       "      <th>4</th>\n",
       "      <td>0.331544</td>\n",
       "      <td>0.347082</td>\n",
       "    </tr>\n",
       "  </tbody>\n",
       "</table>\n",
       "</div>"
      ],
      "text/plain": [
       "   30SMA_OHLC  30SMA_Close\n",
       "0    0.327263     0.338602\n",
       "1    0.328202     0.340644\n",
       "2    0.329227     0.343063\n",
       "3    0.330353     0.345402\n",
       "4    0.331544     0.347082"
      ]
     },
     "execution_count": 34,
     "metadata": {},
     "output_type": "execute_result"
    }
   ],
   "source": [
    "X = prices[['30SMA_OHLC', '30SMA_Close']]\n",
    "y = prices['Close']\n",
    "X.head()"
   ]
  },
  {
   "cell_type": "code",
   "execution_count": 35,
   "id": "84390860",
   "metadata": {},
   "outputs": [
    {
     "data": {
      "text/plain": [
       "0    0.353382\n",
       "1    0.353791\n",
       "2    0.341684\n",
       "3    0.351617\n",
       "4    0.342109\n",
       "Name: Close, dtype: float64"
      ]
     },
     "execution_count": 35,
     "metadata": {},
     "output_type": "execute_result"
    }
   ],
   "source": [
    "y.head()"
   ]
  },
  {
   "cell_type": "code",
   "execution_count": 36,
   "id": "9410cbfc",
   "metadata": {},
   "outputs": [],
   "source": [
    "lr = LinearRegression()\n",
    "lr.fit(X,y)\n",
    "y_preds = lr.predict(X)"
   ]
  },
  {
   "cell_type": "code",
   "execution_count": 37,
   "id": "c7dd68ed",
   "metadata": {},
   "outputs": [
    {
     "data": {
      "text/plain": [
       "0.0007389871228903044"
      ]
     },
     "execution_count": 37,
     "metadata": {},
     "output_type": "execute_result"
    }
   ],
   "source": [
    "mean_squared_error(y, y_preds)"
   ]
  },
  {
   "cell_type": "code",
   "execution_count": 38,
   "id": "a8421976",
   "metadata": {},
   "outputs": [
    {
     "data": {
      "text/plain": [
       "Text(0.5, 0, 'Day')"
      ]
     },
     "execution_count": 38,
     "metadata": {},
     "output_type": "execute_result"
    },
    {
     "data": {
      "image/png": "[encoded data removed]",
      "text/plain": [
       "<Figure size 1000x800 with 1 Axes>"
      ]
     },
     "metadata": {},
     "output_type": "display_data"
    }
   ],
   "source": [
    "# Plot graph\n",
    "plt.figure(figsize = (10,8))\n",
    "plt.plot(prices['Day'], y_preds, label = \"y_preds\")\n",
    "plt.plot(prices['Day'], y, label = \"y\")\n",
    "plt.legend()\n",
    "plt.ylabel(\"Close\")\n",
    "plt.xlabel(\"Day\")"
   ]
  },
  {
   "cell_type": "markdown",
   "id": "72caadc0",
   "metadata": {},
   "source": [
    "The linear regression looks like a good predictive model."
   ]
  },
  {
   "cell_type": "code",
   "execution_count": null,
   "id": "85fb8052",
   "metadata": {},
   "outputs": [],
   "source": []
  }
 ],
 "metadata": {
  "kernelspec": {
   "display_name": "Python 3 (ipykernel)",
   "language": "python",
   "name": "python3"
  },
  "language_info": {
   "codemirror_mode": {
    "name": "ipython",
    "version": 3
   },
   "file_extension": ".py",
   "mimetype": "text/x-python",
   "name": "python",
   "nbconvert_exporter": "python",
   "pygments_lexer": "ipython3",
   "version": "3.9.12"
  }
 },
 "nbformat": 4,
 "nbformat_minor": 5
}
